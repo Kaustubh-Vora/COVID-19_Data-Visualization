{
  "metadata": {
    "kernelspec": {
      "language": "python",
      "display_name": "Python 3",
      "name": "python3"
    },
    "language_info": {
      "name": "python",
      "version": "3.10.12",
      "mimetype": "text/x-python",
      "codemirror_mode": {
        "name": "ipython",
        "version": 3
      },
      "pygments_lexer": "ipython3",
      "nbconvert_exporter": "python",
      "file_extension": ".py"
    },
    "kaggle": {
      "accelerator": "none",
      "dataSources": [
        {
          "sourceId": 3640943,
          "sourceType": "datasetVersion",
          "datasetId": 1062019
        }
      ],
      "dockerImageVersionId": 30615,
      "isInternetEnabled": true,
      "language": "python",
      "sourceType": "notebook",
      "isGpuEnabled": false
    },
    "colab": {
      "name": "Covid-19: Analytics, Modeling, & Visuals",
      "provenance": []
    }
  },
  "nbformat_minor": 0,
  "nbformat": 4,
  "cells": [
    {
      "source": [
        "\n",
        "# IMPORTANT: RUN THIS CELL IN ORDER TO IMPORT YOUR KAGGLE DATA SOURCES\n",
        "# TO THE CORRECT LOCATION (/kaggle/input) IN YOUR NOTEBOOK,\n",
        "# THEN FEEL FREE TO DELETE THIS CELL.\n",
        "# NOTE: THIS NOTEBOOK ENVIRONMENT DIFFERS FROM KAGGLE'S PYTHON\n",
        "# ENVIRONMENT SO THERE MAY BE MISSING LIBRARIES USED BY YOUR\n",
        "# NOTEBOOK.\n",
        "\n",
        "import os\n",
        "import sys\n",
        "from tempfile import NamedTemporaryFile\n",
        "from urllib.request import urlopen\n",
        "from urllib.parse import unquote, urlparse\n",
        "from urllib.error import HTTPError\n",
        "from zipfile import ZipFile\n",
        "import tarfile\n",
        "import shutil\n",
        "\n",
        "CHUNK_SIZE = 40960\n",
        "DATA_SOURCE_MAPPING = 'covid19-global-dataset:https%3A%2F%2Fstorage.googleapis.com%2Fkaggle-data-sets%2F1062019%2F3640943%2Fbundle%2Farchive.zip%3FX-Goog-Algorithm%3DGOOG4-RSA-SHA256%26X-Goog-Credential%3Dgcp-kaggle-com%2540kaggle-161607.iam.gserviceaccount.com%252F20240228%252Fauto%252Fstorage%252Fgoog4_request%26X-Goog-Date%3D20240228T214146Z%26X-Goog-Expires%3D259200%26X-Goog-SignedHeaders%3Dhost%26X-Goog-Signature%3D21bb1a02bbd6e83e1b528a23441838556f3a3a39267b3c68cfa61e4d7f388358d56169e94ad819e66ae08832e7e2cf1399a24878935ee278cb0db43b12f99d5cb4dd38748cde803d255db80ae5c90140937c417794edeee12831b514bb337392ca5c4c26896134702c5fcd65d87e868592edd9c7b8cb6c71e3fc4c4dd1b8793082525b3f68bf71c386b08b53279295ebf930795457f8adde9ba9a77731f05eb5535e8c274be544cca162d312445aea9cbc8636fbecfa2b740b1825d2d26bd42332c73324383917acfc7b47bc6697eeb649d34012a0fd20429a7ae54ae7d7d8bd0058eb419dd97dc97cc427a2b09671ecbd5eeedcb080980ddf74d1a374ffccc9'\n",
        "\n",
        "KAGGLE_INPUT_PATH='/kaggle/input'\n",
        "KAGGLE_WORKING_PATH='/kaggle/working'\n",
        "KAGGLE_SYMLINK='kaggle'\n",
        "\n",
        "!umount /kaggle/input/ 2> /dev/null\n",
        "shutil.rmtree('/kaggle/input', ignore_errors=True)\n",
        "os.makedirs(KAGGLE_INPUT_PATH, 0o777, exist_ok=True)\n",
        "os.makedirs(KAGGLE_WORKING_PATH, 0o777, exist_ok=True)\n",
        "\n",
        "try:\n",
        "  os.symlink(KAGGLE_INPUT_PATH, os.path.join(\"..\", 'input'), target_is_directory=True)\n",
        "except FileExistsError:\n",
        "  pass\n",
        "try:\n",
        "  os.symlink(KAGGLE_WORKING_PATH, os.path.join(\"..\", 'working'), target_is_directory=True)\n",
        "except FileExistsError:\n",
        "  pass\n",
        "\n",
        "for data_source_mapping in DATA_SOURCE_MAPPING.split(','):\n",
        "    directory, download_url_encoded = data_source_mapping.split(':')\n",
        "    download_url = unquote(download_url_encoded)\n",
        "    filename = urlparse(download_url).path\n",
        "    destination_path = os.path.join(KAGGLE_INPUT_PATH, directory)\n",
        "    try:\n",
        "        with urlopen(download_url) as fileres, NamedTemporaryFile() as tfile:\n",
        "            total_length = fileres.headers['content-length']\n",
        "            print(f'Downloading {directory}, {total_length} bytes compressed')\n",
        "            dl = 0\n",
        "            data = fileres.read(CHUNK_SIZE)\n",
        "            while len(data) > 0:\n",
        "                dl += len(data)\n",
        "                tfile.write(data)\n",
        "                done = int(50 * dl / int(total_length))\n",
        "                sys.stdout.write(f\"\\r[{'=' * done}{' ' * (50-done)}] {dl} bytes downloaded\")\n",
        "                sys.stdout.flush()\n",
        "                data = fileres.read(CHUNK_SIZE)\n",
        "            if filename.endswith('.zip'):\n",
        "              with ZipFile(tfile) as zfile:\n",
        "                zfile.extractall(destination_path)\n",
        "            else:\n",
        "              with tarfile.open(tfile.name) as tarfile:\n",
        "                tarfile.extractall(destination_path)\n",
        "            print(f'\\nDownloaded and uncompressed: {directory}')\n",
        "    except HTTPError as e:\n",
        "        print(f'Failed to load (likely expired) {download_url} to path {destination_path}')\n",
        "        continue\n",
        "    except OSError as e:\n",
        "        print(f'Failed to load {download_url} to path {destination_path}')\n",
        "        continue\n",
        "\n",
        "print('Data source import complete.')\n"
      ],
      "metadata": {
        "id": "x_WoX8zIqqQF"
      },
      "cell_type": "code",
      "outputs": [],
      "execution_count": null
    },
    {
      "cell_type": "markdown",
      "source": [
        "# Covid-19 Data: Analytics, Visualizations, & Modeling\n",
        "\n",
        "In 2020, the covid-19 pandemic rapidly spread through the world promptly sent the world into a state of panic and a series of lockdowns in hopes of preventing the virus from spreading further. Ultimately, between a combination of government policies, social changes,a vaccine and an overall increase in sanitation, by May 2023, the covid-19 pandemic was officially declared over."
      ],
      "metadata": {
        "id": "RFvrs4kZqqQI"
      }
    },
    {
      "cell_type": "markdown",
      "source": [
        "## The Data\n",
        "\n",
        "<i>\"This data was scraped from woldometers.info on 2022-05-14 by Joseph Assaker. 225 countries are represented in this data.\"</i>\n",
        "\n",
        "<i>\"All of countries have records dating from 2020-2-15 until 2022-05-14 (820 days per country).\n",
        "That's with the exception of China, which has records dating from 2020-1-22 until 2022-05-14 (844 days per country), and Palau which has records dating from 2021-8-25 until 2022-05-14 (263 days per country).\"</i>\n",
        "\n",
        "--------------------------------------------------------------------------------------------------------\n",
        "**Summary Data Columns Description:**\n",
        "    \n",
        "- **country:** designates the Country in which the the row's data was observed.\n",
        "    \n",
        "- **continent:** designates the Continent of the observed country.\n",
        "    \n",
        "- **total_confirmed:** designates the total number of confirmed cases in the observed country.\n",
        "    \n",
        "- **total_deaths:** designates the total number of confirmed deaths in the observed country.\n",
        "    \n",
        "- **total_recovered:** designates the total number of confirmed recoveries in the observed country.\n",
        "    \n",
        "- **active_cases:** designates the number of active cases in the observed country.\n",
        "    \n",
        "- **serious_or_critical:** designates the estimated number of cases in serious or critical conditions in the observed country.\n",
        "\n",
        "- **total_cases_per_1m_population:** designates the number of total cases per 1 million population in the observed country.\n",
        "    \n",
        "- **total_deaths_per_1m_population:** designates the number of total deaths per 1 million population in the observed country.\n",
        "    \n",
        "- **total_tests:** designates the number of total tests done in the observed country.\n",
        "    \n",
        "- **total_tests_per_1m_population:** designates the number of total test done per 1 million population in the observed country.\n",
        "    \n",
        "- **population:** designates the population count in the observed country.\n",
        "    \n",
        "**Daily Data Columns Description:**\n",
        "    \n",
        "- **date:** designates the date of observation of the row's data in YYYY-MM-DD format.\n",
        "    \n",
        "- **country:** designates the Country in which the the row's data was observed.\n",
        "    \n",
        "- **cumulative_total_cases:** designates the cumulative number of confirmed cases as of the row's date, for the row's country.\n",
        "    \n",
        "- **daily_new_cases:** designates the daily new number of confirmed cases on the row's date, for the row's country.\n",
        "    \n",
        "- **active_cases:** designates the number of active cases (i.e., confirmed cases that still didn't recover nor die) on the row's date, for the row's country.\n",
        "    \n",
        "- **cumulative_total_deaths:** designates the cumulative number of confirmed deaths as of the row's date, for the row's country.\n",
        "    \n",
        "- **daily_new_deaths:** designates the daily new number of confirmed deaths on the row's date, for the row's country."
      ],
      "metadata": {
        "id": "c5paAZWdqqQK"
      }
    },
    {
      "cell_type": "markdown",
      "source": [
        "## Libraries\n"
      ],
      "metadata": {
        "id": "VOiHCIgzqqQK"
      }
    },
    {
      "cell_type": "code",
      "source": [
        "#Libraries for Statistical Analysis\n",
        "import numpy as np #Numerical Manipulation\n",
        "import pandas as pd #Dataframe Creation, Feature Engineering\n",
        "import math #Additional Numerical Manipulation\n",
        "from sklearn.linear_model import LinearRegression #Linear Regression\n",
        "\n",
        "\n",
        "#Plotting and Visualizations\n",
        "import matplotlib.pyplot as plt\n",
        "import seaborn as sns"
      ],
      "metadata": {
        "_uuid": "8f2839f25d086af736a60e9eeb907d3b93b6e0e5",
        "_cell_guid": "b1076dfc-b9ad-4769-8c92-a6c4dae69d19",
        "execution": {
          "iopub.status.busy": "2023-12-22T20:41:11.950626Z",
          "iopub.execute_input": "2023-12-22T20:41:11.951169Z",
          "iopub.status.idle": "2023-12-22T20:41:11.958249Z",
          "shell.execute_reply.started": "2023-12-22T20:41:11.951127Z",
          "shell.execute_reply": "2023-12-22T20:41:11.956632Z"
        },
        "trusted": true,
        "id": "6eX0uOWNqqQL"
      },
      "execution_count": null,
      "outputs": []
    },
    {
      "cell_type": "code",
      "source": [
        "#Reading in the \"activity\" csv file into a pandas dataframe\n",
        "data = pd.read_csv('/kaggle/input/covid19-global-dataset/worldometer_coronavirus_daily_data.csv')\n",
        "data_summary = pd.read_csv('/kaggle/input/covid19-global-dataset/worldometer_coronavirus_summary_data.csv')"
      ],
      "metadata": {
        "execution": {
          "iopub.status.busy": "2023-12-22T20:41:11.961058Z",
          "iopub.execute_input": "2023-12-22T20:41:11.961612Z",
          "iopub.status.idle": "2023-12-22T20:41:12.237705Z",
          "shell.execute_reply.started": "2023-12-22T20:41:11.961552Z",
          "shell.execute_reply": "2023-12-22T20:41:12.236242Z"
        },
        "trusted": true,
        "id": "J_musU5cqqQM"
      },
      "execution_count": null,
      "outputs": []
    },
    {
      "cell_type": "markdown",
      "source": [
        "## (1) Statistical Analysis\n",
        "\n",
        "Exploring various stastical methods I can perform on the datasets"
      ],
      "metadata": {
        "id": "90Vo9SL-qqQM"
      }
    },
    {
      "cell_type": "markdown",
      "source": [
        "### (1.1) Summary Statistics\n",
        "\n",
        "General summary statistics of both datasets, as provided by pandas functions"
      ],
      "metadata": {
        "id": "cHW9DLRCqqQO"
      }
    },
    {
      "cell_type": "code",
      "source": [
        "data.describe()"
      ],
      "metadata": {
        "execution": {
          "iopub.status.busy": "2023-12-22T20:41:12.240426Z",
          "iopub.execute_input": "2023-12-22T20:41:12.240892Z",
          "iopub.status.idle": "2023-12-22T20:41:12.31718Z",
          "shell.execute_reply.started": "2023-12-22T20:41:12.240853Z",
          "shell.execute_reply": "2023-12-22T20:41:12.315809Z"
        },
        "trusted": true,
        "id": "o0ir7xG5qqQO"
      },
      "execution_count": null,
      "outputs": []
    },
    {
      "cell_type": "code",
      "source": [
        "data_summary.describe()"
      ],
      "metadata": {
        "execution": {
          "iopub.status.busy": "2023-12-22T20:41:12.319222Z",
          "iopub.execute_input": "2023-12-22T20:41:12.319661Z",
          "iopub.status.idle": "2023-12-22T20:41:12.372911Z",
          "shell.execute_reply.started": "2023-12-22T20:41:12.319622Z",
          "shell.execute_reply": "2023-12-22T20:41:12.371422Z"
        },
        "trusted": true,
        "id": "vX4GTnGQqqQP"
      },
      "execution_count": null,
      "outputs": []
    },
    {
      "cell_type": "code",
      "source": [
        "data.drop(['date','country'],axis=1).corr()"
      ],
      "metadata": {
        "execution": {
          "iopub.status.busy": "2023-12-22T20:41:12.376749Z",
          "iopub.execute_input": "2023-12-22T20:41:12.377277Z",
          "iopub.status.idle": "2023-12-22T20:41:12.421684Z",
          "shell.execute_reply.started": "2023-12-22T20:41:12.377236Z",
          "shell.execute_reply": "2023-12-22T20:41:12.420706Z"
        },
        "trusted": true,
        "id": "CeNIA3asqqQP"
      },
      "execution_count": null,
      "outputs": []
    },
    {
      "cell_type": "code",
      "source": [
        "data_summary.drop(['country','continent'],axis=1).corr()"
      ],
      "metadata": {
        "execution": {
          "iopub.status.busy": "2023-12-22T20:41:12.423174Z",
          "iopub.execute_input": "2023-12-22T20:41:12.424069Z",
          "iopub.status.idle": "2023-12-22T20:41:12.451794Z",
          "shell.execute_reply.started": "2023-12-22T20:41:12.424021Z",
          "shell.execute_reply": "2023-12-22T20:41:12.450627Z"
        },
        "trusted": true,
        "id": "aNBseadnqqQP"
      },
      "execution_count": null,
      "outputs": []
    },
    {
      "cell_type": "markdown",
      "source": [
        "### (1.2) Additional Summary Metrics\n",
        "\n",
        "Additional metrics that are not shown by general summary stats from pandas"
      ],
      "metadata": {
        "id": "LUZzcRAxqqQP"
      }
    },
    {
      "cell_type": "code",
      "source": [
        "#Number of patients that had covid and survived\n",
        "ad_metrics = pd.DataFrame()\n",
        "\n",
        "ad_metrics[\"country\"] = data_summary[\"country\"]\n",
        "ad_metrics[\"non_critical_cases\"] = data_summary['total_confirmed'] - data_summary['serious_or_critical']\n",
        "ad_metrics[\"test_confirmed_ratio\"] = data_summary[\"total_tests\"] / data_summary['total_confirmed']\n",
        "ad_metrics['survival_ratio'] = data_summary['total_recovered'] / data_summary['total_deaths']\n",
        "\n",
        "ad_metrics = ad_metrics.set_index('country')\n",
        "ad_metrics = ad_metrics.replace({np.nan:0})\n",
        "\n",
        "ad_metrics"
      ],
      "metadata": {
        "execution": {
          "iopub.status.busy": "2023-12-22T20:41:12.453998Z",
          "iopub.execute_input": "2023-12-22T20:41:12.45439Z",
          "iopub.status.idle": "2023-12-22T20:41:12.482736Z",
          "shell.execute_reply.started": "2023-12-22T20:41:12.454356Z",
          "shell.execute_reply": "2023-12-22T20:41:12.481561Z"
        },
        "trusted": true,
        "id": "vXJeI6LkqqQQ"
      },
      "execution_count": null,
      "outputs": []
    },
    {
      "cell_type": "markdown",
      "source": [
        "## (2) Feature Engineering\n",
        "\n",
        "To compare the impact of the United States vs. the rest of the world, I am creating two pandas dataframes named us_data and global_data, so that I can easily model U.S stats to the global stats"
      ],
      "metadata": {
        "id": "Se4eh3_GqqQQ"
      }
    },
    {
      "cell_type": "code",
      "source": [
        "#Creating the global dataframe\n",
        "mask = data['country'] != 'USA'\n",
        "global_data = data[mask]\n",
        "\n",
        "#Creating the us dataframe\n",
        "mask = data['country'] == 'USA'\n",
        "us_data = data[mask]\n",
        "\n",
        "#Reindexing for the US dataset\n",
        "index = np.arange(0,len(us_data),1)\n",
        "us_data = us_data.set_index(index)\n",
        "\n",
        "#Reindexing for the global dataset\n",
        "index = np.arange(0,len(global_data),1)\n",
        "global_data = global_data.set_index(index)\n",
        "\n",
        "global_data['active_cases'] = global_data['active_cases'].fillna(0)"
      ],
      "metadata": {
        "execution": {
          "iopub.status.busy": "2023-12-22T20:41:12.484442Z",
          "iopub.execute_input": "2023-12-22T20:41:12.484908Z",
          "iopub.status.idle": "2023-12-22T20:41:12.58494Z",
          "shell.execute_reply.started": "2023-12-22T20:41:12.484871Z",
          "shell.execute_reply": "2023-12-22T20:41:12.583781Z"
        },
        "trusted": true,
        "id": "MTflzKDcqqQQ"
      },
      "execution_count": null,
      "outputs": []
    },
    {
      "cell_type": "markdown",
      "source": [
        "## (3) Visualizations"
      ],
      "metadata": {
        "id": "YPpAOuAXqqQQ"
      }
    },
    {
      "cell_type": "markdown",
      "source": [
        "### (3.1) Visualizing US Covid-19 [2/15/2020 - 5/14/2022]"
      ],
      "metadata": {
        "id": "p6sFwOp6qqQQ"
      }
    },
    {
      "cell_type": "code",
      "source": [
        "#Using linear regression to create a trend line of active cases\n",
        "X = np.arange(0,len(us_data),1).reshape(-1,1)\n",
        "y = us_data['active_cases']\n",
        "model = LinearRegression().fit(X,y)\n",
        "y_pred = model.predict(X)\n",
        "\n",
        "#Creating the plot\n",
        "plt.figure(figsize=(8,5))\n",
        "#plt.plot(us_data['cumulative_total_cases'],label=\"Cumulative Total Cases\")\n",
        "#plt.plot(us_data['daily_new_cases'],label=\"Daily New Cases\")\n",
        "plt.plot(us_data['active_cases'],label=\"Active Cases\", color='steelblue')\n",
        "plt.plot(y_pred,label=\"Active Cases (Trendline)\",color='steelblue',linestyle='dashed')\n",
        "plt.plot(us_data['cumulative_total_deaths'],label=\"Deaths\", color='black')\n",
        "plt.xlabel('Days')\n",
        "plt.ylabel('Cases (in millions)')\n",
        "plt.title(\"US Covid Data [2/15/2020 - 5/14/2022]\")\n",
        "plt.axvline(x=300,color='r',label='Vaccine Released',linestyle='dashed')\n",
        "plt.axvline(x=583,color='y',label='Booster #1',linestyle='dashed')\n",
        "plt.axvline(x=765,color='g',label='Booster #2',linestyle='dashed')\n",
        "plt.legend()\n",
        "plt.show()"
      ],
      "metadata": {
        "execution": {
          "iopub.status.busy": "2023-12-22T20:41:12.586621Z",
          "iopub.execute_input": "2023-12-22T20:41:12.587015Z",
          "iopub.status.idle": "2023-12-22T20:41:13.076662Z",
          "shell.execute_reply.started": "2023-12-22T20:41:12.586979Z",
          "shell.execute_reply": "2023-12-22T20:41:13.075472Z"
        },
        "trusted": true,
        "id": "o7tVOUJ6qqQQ"
      },
      "execution_count": null,
      "outputs": []
    },
    {
      "cell_type": "markdown",
      "source": [
        "### (3.2) Heatmap of top 10 countries w/ the highest populations [Scaled by 1e^6]"
      ],
      "metadata": {
        "id": "RXNhfkZYqqQQ"
      }
    },
    {
      "cell_type": "code",
      "source": [
        "#mask = data_summary['country'] != \"USA\"\n",
        "#heatmap = data_summary[mask]\n",
        "heatmap = data_summary\n",
        "heatmap = heatmap.set_index('country')\n",
        "heatmap = heatmap.sort_values('population',ascending=False)[0:9]\n",
        "heatmap = heatmap.drop(['continent','population','total_tests'],axis=1)\n",
        "heatmap = heatmap * .000001\n",
        "plt.xlabel('Category')\n",
        "plt.ylabel('Country')\n",
        "plt.title('Global Heatmap [Scaled by 1e^6, descending by pop.]')\n",
        "sns.heatmap(heatmap, cmap='YlGnBu',annot=True,linewidths=2)"
      ],
      "metadata": {
        "execution": {
          "iopub.status.busy": "2023-12-22T20:41:13.077908Z",
          "iopub.execute_input": "2023-12-22T20:41:13.078851Z",
          "iopub.status.idle": "2023-12-22T20:41:13.843894Z",
          "shell.execute_reply.started": "2023-12-22T20:41:13.078764Z",
          "shell.execute_reply": "2023-12-22T20:41:13.842601Z"
        },
        "trusted": true,
        "id": "61mCG5stqqQR"
      },
      "execution_count": null,
      "outputs": []
    }
  ]
}